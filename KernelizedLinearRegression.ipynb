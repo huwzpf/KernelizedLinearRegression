{
 "cells": [
  {
   "cell_type": "markdown",
   "id": "b377ee79",
   "metadata": {},
   "source": [
    "A Gaussian kernel is given by: $$ \\langle x^{(i)}, x^{(j)} \\rangle = exp(\\frac{|| x_i - x_j ||^2}{-\\gamma})  $$\n",
    "\n",
    "Since x is one dimensional $$ \\langle x^{(i)}, x^{(j)} \\rangle = exp(\\frac{( x_i - x_j)^2}{-\\gamma})  $$"
   ]
  },
  {
   "cell_type": "code",
   "execution_count": null,
   "id": "4648a618",
   "metadata": {},
   "outputs": [],
   "source": [
    "def kernel_function(x, z):\n",
    "    gamma = 100\n",
    "    return np.exp(- ((x - z) ** 2 / gamma))"
   ]
  },
  {
   "cell_type": "markdown",
   "id": "dcd7315b",
   "metadata": {},
   "source": [
    "To make computation shorter, a matrix containing $ \\langle x^{(i)}, x^{(j)} \\rangle $ for each $ x_i , x_j $ in the training set can be created"
   ]
  },
  {
   "cell_type": "code",
   "execution_count": null,
   "id": "7ba2046a",
   "metadata": {},
   "outputs": [],
   "source": [
    "def generate_kernel_matrix(x):\n",
    "    # generate m x m kernel matrix\n",
    "    n = x.shape[0]\n",
    "    k = np.zeros((n, n))\n",
    "    for i in range(n):\n",
    "        for j in range(n):\n",
    "            k[i, j] = kernel_function(x[i, :], x[j, :])\n",
    "    return k"
   ]
  },
  {
   "cell_type": "markdown",
   "id": "7f5f056c",
   "metadata": {},
   "source": [
    "Main function train() that fits the regression line and plots it"
   ]
  },
  {
   "cell_type": "code",
   "execution_count": null,
   "id": "b1371fd3",
   "metadata": {},
   "outputs": [],
   "source": [
    "def train(x, y, learning_rate, steps):\n",
    "    beta = np.zeros((x.shape[0], 1))\n",
    "    kernel_matrix = generate_kernel_matrix(x)\n",
    "    labels = y.reshape(len(y), 1)"
   ]
  },
  {
   "cell_type": "markdown",
   "id": "4acb3df8",
   "metadata": {},
   "source": [
    "For 'normal' linear regression update rule would be : \n",
    "$$ \\Theta \\ += \\alpha \\sum_{i=1}^{n} (y^{(i)} - \\Theta^T x^{(i)})  \\ x $$\n",
    "or \n",
    "$$ \\Theta  \\ += \\alpha \\sum_{i=1}^{n} (y^{(i)} - \\Theta^T \\phi(x^{(i)}))  \\ \\phi(x) $$\n",
    "where $\\phi(x)$ is a feature mapping\n",
    "\n",
    "A kernel $ \\langle x, z \\rangle $ is defined as $ \\phi(x)^T \\phi(z) $\n",
    "\n",
    "And the assumption is that :\n",
    "$$ \\Theta = \\sum_{i=1}^{n} \\beta _i \\phi(x^{(i)}) $$\n",
    "\n",
    "Then hypothesis can be rewritten as\n",
    "\n",
    "$$ \\Theta^T \\phi(x) = \\sum_{i=1}^{n} \\beta _i \\phi(x^{(i)})^T \\phi(x) = \\sum_{i=1}^{n} \\beta _i \\langle x^{(i)}, x \\rangle$$\n",
    "\n",
    "So if we take $ \\beta $ as parameters instead of $ \\Theta $ update rule can be rewritten as:\n",
    "$$ \\beta_j \\ += \\alpha (y^{(j)} - \\sum_{i=1}^{n} \\beta _i \\langle x^{(j)}, x^{(i)} \\rangle ) $$\n",
    "\n",
    "Or with usage of kernel matrix K (defined above)\n",
    "\n",
    "$$\\beta \\ +=  \\ \\alpha (y - K\\beta) $$"
   ]
  },
  {
   "cell_type": "code",
   "execution_count": null,
   "id": "13cfe242",
   "metadata": {},
   "outputs": [],
   "source": [
    "    for i in range(steps):\n",
    "        beta += learning_rate * (labels - kernel_matrix.dot(beta))"
   ]
  },
  {
   "cell_type": "markdown",
   "id": "32190a9b",
   "metadata": {},
   "source": [
    "plotting part"
   ]
  },
  {
   "cell_type": "code",
   "execution_count": null,
   "id": "077783dc",
   "metadata": {},
   "outputs": [],
   "source": [
    "  plt.scatter(x, y)\n",
    "\n",
    "    axes = plt.gca()\n",
    "    (x_min, x_max) = axes.get_xlim()\n",
    "\n",
    "    y_a = np.empty(0)\n",
    "    x_a = range(int(x_min), int(x_max))\n",
    "    # Theta.transpose * feature_mapping(x) = sum beta_i * K(x_i, x)\n",
    "    for i in x_a:\n",
    "        s = 0\n",
    "        for j in range(x.shape[0]):\n",
    "            s += beta[j] * kernel_function(x[j], i)\n",
    "        y_a = np.append(y_a, s)\n",
    "\n",
    "    # plot approximated resulting curve as straight lines between segments\n",
    "    for i in range(len(y_a) - 1):\n",
    "        plt.plot([x_a[i], x_a[i]+1], [y_a[i], y_a[i+1]], color='r')\n",
    "\n",
    "    plt.show()"
   ]
  },
  {
   "cell_type": "markdown",
   "id": "cbbbd4fe",
   "metadata": {},
   "source": [
    "![plot](plot.png)"
   ]
  },
  {
   "cell_type": "code",
   "execution_count": null,
   "id": "71889e44",
   "metadata": {},
   "outputs": [],
   "source": []
  }
 ],
 "metadata": {
  "kernelspec": {
   "display_name": "Python 3 (ipykernel)",
   "language": "python",
   "name": "python3"
  },
  "language_info": {
   "codemirror_mode": {
    "name": "ipython",
    "version": 3
   },
   "file_extension": ".py",
   "mimetype": "text/x-python",
   "name": "python",
   "nbconvert_exporter": "python",
   "pygments_lexer": "ipython3",
   "version": "3.9.10"
  }
 },
 "nbformat": 4,
 "nbformat_minor": 5
}
